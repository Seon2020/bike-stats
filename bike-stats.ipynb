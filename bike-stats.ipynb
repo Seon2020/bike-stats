{
 "metadata": {
  "language_info": {
   "codemirror_mode": {
    "name": "ipython",
    "version": 3
   },
   "file_extension": ".py",
   "mimetype": "text/x-python",
   "name": "python",
   "nbconvert_exporter": "python",
   "pygments_lexer": "ipython3",
   "version": "3.9.0-final"
  },
  "orig_nbformat": 2,
  "kernelspec": {
   "name": "python3",
   "display_name": "Python 3",
   "language": "python"
  }
 },
 "nbformat": 4,
 "nbformat_minor": 2,
 "cells": [
  {
   "source": [
    "# Data Analysis with Pandas\n",
    "## Cycle Share Data\n",
    "### Sean Hawkins | January 20th, 2021"
   ],
   "cell_type": "markdown",
   "metadata": {}
  },
  {
   "cell_type": "code",
   "execution_count": 126,
   "metadata": {},
   "outputs": [],
   "source": [
    "import pandas as pd"
   ]
  },
  {
   "cell_type": "code",
   "execution_count": 127,
   "metadata": {},
   "outputs": [
    {
     "output_type": "stream",
     "name": "stderr",
     "text": [
      "b'Skipping line 50794: expected 12 fields, saw 20\\n'\n"
     ]
    }
   ],
   "source": [
    "df_station = pd.read_csv('station.csv')\n",
    "df_weather = pd.read_csv('weather.csv')\n",
    "df_trip = pd.read_csv('trip.csv', error_bad_lines=False)"
   ]
  },
  {
   "source": [
    "#### 1. What is the average trip duration for a borrowed bicycle?"
   ],
   "cell_type": "markdown",
   "metadata": {}
  },
  {
   "cell_type": "code",
   "execution_count": 128,
   "metadata": {},
   "outputs": [
    {
     "output_type": "execute_result",
     "data": {
      "text/plain": [
       "1178.2956753399776"
      ]
     },
     "metadata": {},
     "execution_count": 128
    }
   ],
   "source": [
    "avg_trip_duration = df_trip[\"tripduration\"].mean()\n",
    "avg_trip_duration"
   ]
  },
  {
   "source": [
    "#### 2. What’s the most common age of a bicycle-sharer?"
   ],
   "cell_type": "markdown",
   "metadata": {}
  },
  {
   "cell_type": "code",
   "execution_count": 129,
   "metadata": {},
   "outputs": [
    {
     "output_type": "execute_result",
     "data": {
      "text/plain": [
       "34"
      ]
     },
     "metadata": {},
     "execution_count": 129
    }
   ],
   "source": [
    "most_common_age = 2021 - df_trip[\"birthyear\"].mode().item()\n",
    "int(most_common_age)"
   ]
  },
  {
   "source": [
    "#### 3. Given all the weather data here, find the average precipitation per month, and the median precipitation."
   ],
   "cell_type": "markdown",
   "metadata": {}
  },
  {
   "cell_type": "code",
   "execution_count": 130,
   "metadata": {},
   "outputs": [
    {
     "output_type": "execute_result",
     "data": {
      "text/plain": [
       "0.10506531204644412"
      ]
     },
     "metadata": {},
     "execution_count": 130
    }
   ],
   "source": [
    "mean_precipitation = df_weather['Precipitation_In'].mean()\n",
    "median_precipitation = df_weather['Precipitation_In'].median()\n",
    "median_precipitation\n",
    "mean_precipitation"
   ]
  },
  {
   "source": [
    "#### 4. What’s the average number of bikes at a given bike station?"
   ],
   "cell_type": "markdown",
   "metadata": {}
  },
  {
   "cell_type": "code",
   "execution_count": 131,
   "metadata": {},
   "outputs": [
    {
     "output_type": "execute_result",
     "data": {
      "text/plain": [
       "16.517241379310345"
      ]
     },
     "metadata": {},
     "execution_count": 131
    }
   ],
   "source": [
    "average_bikes = df_station[\"current_dockcount\"].mean()\n",
    "average_bikes"
   ]
  },
  {
   "source": [
    "#### 5. When a bike station is modified, is it more likely that it’ll lose bikes or gain bikes? How do you know?"
   ],
   "cell_type": "markdown",
   "metadata": {}
  },
  {
   "source": [
    "\n",
    "unmodified_bike_avg = df_station[df_station[\"modification_date\"].isnull() == True].install_dockcount.mean()\n",
    "modified_bike_avg = df_station[df_station[\"modification_date\"].isnull() != True].install_dockcount.mean()\n",
    "modified_bike_avg > unmodified_bike_avg\n"
   ],
   "cell_type": "code",
   "metadata": {},
   "execution_count": 132,
   "outputs": [
    {
     "output_type": "execute_result",
     "data": {
      "text/plain": [
       "False"
      ]
     },
     "metadata": {},
     "execution_count": 132
    }
   ]
  },
  {
   "source": [
    "#### 6. Come up with 3 more questions that can be answered with this data set."
   ],
   "cell_type": "markdown",
   "metadata": {}
  },
  {
   "source": [
    "#### A. What bike has been used most often?"
   ],
   "cell_type": "markdown",
   "metadata": {}
  },
  {
   "cell_type": "code",
   "execution_count": 133,
   "metadata": {},
   "outputs": [
    {
     "output_type": "execute_result",
     "data": {
      "text/plain": [
       "'SEA00281'"
      ]
     },
     "metadata": {},
     "execution_count": 133
    }
   ],
   "source": [
    "most_used_bike = df_trip.bikeid.value_counts().index[0]\n",
    "most_used_bike"
   ]
  },
  {
   "source": [
    "#### B. What is the average max humidity? "
   ],
   "cell_type": "markdown",
   "metadata": {}
  },
  {
   "cell_type": "code",
   "execution_count": 134,
   "metadata": {},
   "outputs": [
    {
     "output_type": "execute_result",
     "data": {
      "text/plain": [
       "84.54136429608128"
      ]
     },
     "metadata": {},
     "execution_count": 134
    }
   ],
   "source": [
    "max_humidity_avg = df_weather.Max_Humidity.mean()\n",
    "max_humidity_avg"
   ]
  },
  {
   "source": [
    "#### C. Given all dates that we have data for, what five dates were the coldest?"
   ],
   "cell_type": "markdown",
   "metadata": {}
  },
  {
   "cell_type": "code",
   "execution_count": 135,
   "metadata": {},
   "outputs": [
    {
     "output_type": "execute_result",
     "data": {
      "text/plain": [
       "           Date  Min_TemperatureF\n",
       "446    1/2/2016                23\n",
       "445    1/1/2016                25\n",
       "411  11/28/2015                26\n",
       "50    12/2/2014                26\n",
       "79   12/31/2014                26"
      ],
      "text/html": "<div>\n<style scoped>\n    .dataframe tbody tr th:only-of-type {\n        vertical-align: middle;\n    }\n\n    .dataframe tbody tr th {\n        vertical-align: top;\n    }\n\n    .dataframe thead th {\n        text-align: right;\n    }\n</style>\n<table border=\"1\" class=\"dataframe\">\n  <thead>\n    <tr style=\"text-align: right;\">\n      <th></th>\n      <th>Date</th>\n      <th>Min_TemperatureF</th>\n    </tr>\n  </thead>\n  <tbody>\n    <tr>\n      <th>446</th>\n      <td>1/2/2016</td>\n      <td>23</td>\n    </tr>\n    <tr>\n      <th>445</th>\n      <td>1/1/2016</td>\n      <td>25</td>\n    </tr>\n    <tr>\n      <th>411</th>\n      <td>11/28/2015</td>\n      <td>26</td>\n    </tr>\n    <tr>\n      <th>50</th>\n      <td>12/2/2014</td>\n      <td>26</td>\n    </tr>\n    <tr>\n      <th>79</th>\n      <td>12/31/2014</td>\n      <td>26</td>\n    </tr>\n  </tbody>\n</table>\n</div>"
     },
     "metadata": {},
     "execution_count": 135
    }
   ],
   "source": [
    "df_weather.sort_values('Min_TemperatureF').head()[['Date','Min_TemperatureF']]"
   ]
  },
  {
   "cell_type": "code",
   "execution_count": 137,
   "metadata": {},
   "outputs": [
    {
     "output_type": "stream",
     "name": "stdout",
     "text": [
      "Success!!!\n"
     ]
    }
   ],
   "source": [
    "def test():\n",
    "\n",
    "    def assert_equal(actual,expected):\n",
    "        assert actual == expected, f\"Expected {expected} but got {actual}\"\n",
    "\n",
    "    assert_equal(avg_trip_duration, 1178.2956753399776)\n",
    "    assert_equal(int(most_common_age), 34)\n",
    "    assert_equal(mean_precipitation, 0.10506531204644412)\n",
    "    assert_equal(median_precipitation, 0.0)\n",
    "    assert_equal(average_bikes, 16.517241379310345)\n",
    "    assert_equal(modified_bike_avg > unmodified_bike_avg, False)\n",
    "\n",
    "\n",
    "    print(\"Success!!!\")\n",
    "\n",
    "test()"
   ]
  },
  {
   "cell_type": "code",
   "execution_count": null,
   "metadata": {},
   "outputs": [],
   "source": []
  }
 ]
}